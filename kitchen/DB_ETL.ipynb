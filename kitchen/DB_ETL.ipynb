{
 "cells": [
  {
   "cell_type": "markdown",
   "id": "36762c00",
   "metadata": {},
   "source": [
    "### handle .db file (sqlite)"
   ]
  },
  {
   "cell_type": "code",
   "execution_count": 2,
   "id": "8f549769",
   "metadata": {},
   "outputs": [],
   "source": [
    "# Import Required Libraries\n",
    "import sqlite3\n",
    "import pandas as pd"
   ]
  },
  {
   "cell_type": "code",
   "execution_count": 17,
   "id": "f84ad286",
   "metadata": {},
   "outputs": [],
   "source": [
    "DB_PATH = 'datasrc/cac-data-contd-32.db'\n",
    "NEW_DB_PATH = 'new_analysis.db'"
   ]
  },
  {
   "cell_type": "code",
   "execution_count": 18,
   "id": "84f3acb5",
   "metadata": {},
   "outputs": [],
   "source": [
    "# Query definitions\n",
    "query_read_all_tables_names = \"SELECT name FROM sqlite_master WHERE type='table';\" # reads the names of all available tables\n",
    "\n",
    "def drop_columns_from_df(df, columns_to_drop):\n",
    "    \"\"\"\n",
    "    Drops specified columns from a table (pd dataframe).\n",
    "\n",
    "    Args:\n",
    "        df (obj): Dataframe object.\n",
    "        columns_to_drop (list): List of column names to drop.\n",
    "    \"\"\"\n",
    "    try:\n",
    "        # Drop the specified columns\n",
    "        df.drop(columns=columns_to_drop, inplace=True, errors='ignore')\n",
    "\n",
    "        # database_file = conn.__getattribute__(__file__)\n",
    "        # print(f\"Columns {columns_to_drop} dropped from table {table_name} in {database_file}\")\n",
    "        print(f\"Columns {columns_to_drop} dropped from table\")\n",
    "\n",
    "        return df\n",
    "\n",
    "    except sqlite3.Error as e:\n",
    "        print(f\"Database error: {e}\")\n",
    "    except pd.io.sql.DatabaseError as e:\n",
    "        print(f\"Pandas Database error: {e}\")\n",
    "    except Exception as e:\n",
    "        print(f\"An error occurred: {e}\")\n"
   ]
  },
  {
   "cell_type": "markdown",
   "id": "1e8fc996",
   "metadata": {},
   "source": [
    "# CONNECT"
   ]
  },
  {
   "cell_type": "code",
   "execution_count": 40,
   "id": "463644f5",
   "metadata": {},
   "outputs": [
    {
     "name": "stdout",
     "output_type": "stream",
     "text": [
      "Connected to database: datasrc/cac-data-contd-32.db\n"
     ]
    }
   ],
   "source": [
    "# Connect to the .db File\n",
    "\n",
    "try:\n",
    "    conn = sqlite3.connect(DB_PATH)\n",
    "    cursor = conn.cursor()\n",
    "    print(f\"Connected to database: {DB_PATH}\")\n",
    "except sqlite3.Error as e:\n",
    "    print(f\"Database connrction error: {e}\")\n",
    "    "
   ]
  },
  {
   "cell_type": "markdown",
   "id": "907aa0dd",
   "metadata": {},
   "source": [
    "## Test connection"
   ]
  },
  {
   "cell_type": "code",
   "execution_count": 41,
   "id": "c31d3569",
   "metadata": {},
   "outputs": [
    {
     "name": "stdout",
     "output_type": "stream",
     "text": [
      "Tables in the database:\n",
      "              name\n",
      "0    organizations\n",
      "1  sqlite_sequence\n",
      "2       affiliates\n"
     ]
    }
   ],
   "source": [
    "# List Tables in the Database\n",
    "tables = pd.read_sql_query(query_read_all_tables_names, conn)\n",
    "print(\"Tables in the database:\")\n",
    "# display(tables)\n",
    "print(tables)\n",
    "# tables.head()"
   ]
  },
  {
   "cell_type": "markdown",
   "id": "2c607a1b",
   "metadata": {},
   "source": [
    "# EXTRACT"
   ]
  },
  {
   "cell_type": "code",
   "execution_count": 42,
   "id": "c1185731",
   "metadata": {},
   "outputs": [
    {
     "data": {
      "text/html": [
       "<div>\n",
       "<style scoped>\n",
       "    .dataframe tbody tr th:only-of-type {\n",
       "        vertical-align: middle;\n",
       "    }\n",
       "\n",
       "    .dataframe tbody tr th {\n",
       "        vertical-align: top;\n",
       "    }\n",
       "\n",
       "    .dataframe thead th {\n",
       "        text-align: right;\n",
       "    }\n",
       "</style>\n",
       "<table border=\"1\" class=\"dataframe\">\n",
       "  <thead>\n",
       "    <tr style=\"text-align: right;\">\n",
       "      <th></th>\n",
       "      <th>entry_id</th>\n",
       "      <th>organization_id</th>\n",
       "      <th>id</th>\n",
       "      <th>surname</th>\n",
       "      <th>firstname</th>\n",
       "      <th>otherName</th>\n",
       "      <th>email</th>\n",
       "      <th>phoneNumber</th>\n",
       "      <th>gender</th>\n",
       "      <th>formerNationality</th>\n",
       "      <th>...</th>\n",
       "      <th>nationality</th>\n",
       "      <th>address</th>\n",
       "      <th>streetNumber</th>\n",
       "      <th>isChairman</th>\n",
       "      <th>isDesignated</th>\n",
       "      <th>postcode</th>\n",
       "      <th>formerNameType</th>\n",
       "      <th>affiliatesResidentialAddress</th>\n",
       "      <th>affiliatesPscInformation</th>\n",
       "      <th>isPublicUser</th>\n",
       "    </tr>\n",
       "  </thead>\n",
       "  <tbody>\n",
       "    <tr>\n",
       "      <th>0</th>\n",
       "      <td>1</td>\n",
       "      <td>3062361</td>\n",
       "      <td>2395069</td>\n",
       "      <td>ODOH</td>\n",
       "      <td>. E. EMEKA</td>\n",
       "      <td></td>\n",
       "      <td>emyking08@yahoo.com</td>\n",
       "      <td>08033873502</td>\n",
       "      <td>None</td>\n",
       "      <td>None</td>\n",
       "      <td>...</td>\n",
       "      <td>None</td>\n",
       "      <td>NO 8  ACCRA ST.WUSE ZONE 5,ABUJA</td>\n",
       "      <td>None</td>\n",
       "      <td>None</td>\n",
       "      <td>None</td>\n",
       "      <td>None</td>\n",
       "      <td>None</td>\n",
       "      <td>None</td>\n",
       "      <td>None</td>\n",
       "      <td>None</td>\n",
       "    </tr>\n",
       "    <tr>\n",
       "      <th>1</th>\n",
       "      <td>2</td>\n",
       "      <td>3062361</td>\n",
       "      <td>2395165</td>\n",
       "      <td>OBODOZIE</td>\n",
       "      <td>KENNETH</td>\n",
       "      <td>CHUKWUEBUKA</td>\n",
       "      <td></td>\n",
       "      <td></td>\n",
       "      <td>Male</td>\n",
       "      <td></td>\n",
       "      <td>...</td>\n",
       "      <td>Nigerian</td>\n",
       "      <td>NO. 12, ROAD 18, UPPER NORTH TRANS EKULU</td>\n",
       "      <td>None</td>\n",
       "      <td>None</td>\n",
       "      <td>None</td>\n",
       "      <td>None</td>\n",
       "      <td>None</td>\n",
       "      <td>None</td>\n",
       "      <td>None</td>\n",
       "      <td>None</td>\n",
       "    </tr>\n",
       "    <tr>\n",
       "      <th>2</th>\n",
       "      <td>3</td>\n",
       "      <td>3062361</td>\n",
       "      <td>2395226</td>\n",
       "      <td>OKEFUNA</td>\n",
       "      <td>ANN</td>\n",
       "      <td>ELIZABETH</td>\n",
       "      <td></td>\n",
       "      <td></td>\n",
       "      <td>Female</td>\n",
       "      <td></td>\n",
       "      <td>...</td>\n",
       "      <td>British</td>\n",
       "      <td>1, OLD DISTILLERY, DINGWALL ROSS-SHINE, IV15 9...</td>\n",
       "      <td>None</td>\n",
       "      <td>None</td>\n",
       "      <td>None</td>\n",
       "      <td>None</td>\n",
       "      <td>None</td>\n",
       "      <td>None</td>\n",
       "      <td>None</td>\n",
       "      <td>None</td>\n",
       "    </tr>\n",
       "    <tr>\n",
       "      <th>3</th>\n",
       "      <td>4</td>\n",
       "      <td>3062361</td>\n",
       "      <td>2395278</td>\n",
       "      <td>OBODOZIE</td>\n",
       "      <td>KENNETH</td>\n",
       "      <td>CHUKWUEBUKA</td>\n",
       "      <td></td>\n",
       "      <td></td>\n",
       "      <td>Male</td>\n",
       "      <td></td>\n",
       "      <td>...</td>\n",
       "      <td>Nigerian</td>\n",
       "      <td>NO. 12, ROAD 18, UPPER NORTH TRANS EKULU</td>\n",
       "      <td>None</td>\n",
       "      <td>None</td>\n",
       "      <td>None</td>\n",
       "      <td>None</td>\n",
       "      <td>None</td>\n",
       "      <td>None</td>\n",
       "      <td>None</td>\n",
       "      <td>None</td>\n",
       "    </tr>\n",
       "    <tr>\n",
       "      <th>4</th>\n",
       "      <td>5</td>\n",
       "      <td>3062361</td>\n",
       "      <td>2395279</td>\n",
       "      <td>OKEFUNA</td>\n",
       "      <td>ANN</td>\n",
       "      <td>ELIZABETH</td>\n",
       "      <td></td>\n",
       "      <td></td>\n",
       "      <td>Female</td>\n",
       "      <td></td>\n",
       "      <td>...</td>\n",
       "      <td>British</td>\n",
       "      <td>1, OLD DISTILLERY, DINGWALL ROSS-SHINE, IV15 9...</td>\n",
       "      <td>None</td>\n",
       "      <td>None</td>\n",
       "      <td>None</td>\n",
       "      <td>None</td>\n",
       "      <td>None</td>\n",
       "      <td>None</td>\n",
       "      <td>None</td>\n",
       "      <td>None</td>\n",
       "    </tr>\n",
       "  </tbody>\n",
       "</table>\n",
       "<p>5 rows × 43 columns</p>\n",
       "</div>"
      ],
      "text/plain": [
       "   entry_id  organization_id       id   surname   firstname    otherName  \\\n",
       "0         1          3062361  2395069      ODOH  . E. EMEKA                \n",
       "1         2          3062361  2395165  OBODOZIE     KENNETH  CHUKWUEBUKA   \n",
       "2         3          3062361  2395226   OKEFUNA         ANN    ELIZABETH   \n",
       "3         4          3062361  2395278  OBODOZIE     KENNETH  CHUKWUEBUKA   \n",
       "4         5          3062361  2395279   OKEFUNA         ANN    ELIZABETH   \n",
       "\n",
       "                 email  phoneNumber  gender formerNationality  ...  \\\n",
       "0  emyking08@yahoo.com  08033873502    None              None  ...   \n",
       "1                                      Male                    ...   \n",
       "2                                    Female                    ...   \n",
       "3                                      Male                    ...   \n",
       "4                                    Female                    ...   \n",
       "\n",
       "  nationality                                            address streetNumber  \\\n",
       "0        None                   NO 8  ACCRA ST.WUSE ZONE 5,ABUJA         None   \n",
       "1    Nigerian           NO. 12, ROAD 18, UPPER NORTH TRANS EKULU         None   \n",
       "2     British  1, OLD DISTILLERY, DINGWALL ROSS-SHINE, IV15 9...         None   \n",
       "3    Nigerian           NO. 12, ROAD 18, UPPER NORTH TRANS EKULU         None   \n",
       "4     British  1, OLD DISTILLERY, DINGWALL ROSS-SHINE, IV15 9...         None   \n",
       "\n",
       "  isChairman isDesignated postcode formerNameType  \\\n",
       "0       None         None     None           None   \n",
       "1       None         None     None           None   \n",
       "2       None         None     None           None   \n",
       "3       None         None     None           None   \n",
       "4       None         None     None           None   \n",
       "\n",
       "  affiliatesResidentialAddress affiliatesPscInformation isPublicUser  \n",
       "0                         None                     None         None  \n",
       "1                         None                     None         None  \n",
       "2                         None                     None         None  \n",
       "3                         None                     None         None  \n",
       "4                         None                     None         None  \n",
       "\n",
       "[5 rows x 43 columns]"
      ]
     },
     "execution_count": 42,
     "metadata": {},
     "output_type": "execute_result"
    }
   ],
   "source": [
    "# Query Data from a Table\n",
    "table_name = 'affiliates'\n",
    "query = f\"SELECT * FROM {table_name} LIMIT 10;\"\n",
    "data = pd.read_sql_query(query, conn)\n",
    "data.head()"
   ]
  },
  {
   "cell_type": "code",
   "execution_count": null,
   "id": "26662ea6",
   "metadata": {},
   "outputs": [],
   "source": [
    "# Display Query Results with Pandas\n",
    "data.info()\n",
    "data.describe()"
   ]
  },
  {
   "cell_type": "markdown",
   "id": "b0915f14",
   "metadata": {},
   "source": [
    "# TRANSFORM"
   ]
  },
  {
   "cell_type": "code",
   "execution_count": 43,
   "id": "7905db59",
   "metadata": {},
   "outputs": [
    {
     "name": "stdout",
     "output_type": "stream",
     "text": [
      "Shape of new table: (10, 43)\n"
     ]
    }
   ],
   "source": [
    "\n",
    "# transformation \n",
    "new_table = data.copy()  # Start with existing data\n",
    "\n",
    "# new_table['new_column'] = new_table['existing_column'].apply(some_function)\n",
    "# new_table = new_table.groupby('column').agg({'col1': 'sum', 'col2': 'mean'})\n",
    "\n",
    "print(\"Shape of new table:\", new_table.shape)\n",
    "# new_table.head()\n"
   ]
  },
  {
   "cell_type": "code",
   "execution_count": null,
   "id": "39819aba",
   "metadata": {},
   "outputs": [],
   "source": [
    "\n",
    "# drop column from table\n",
    "\n",
    "table_name = 'organizations' \n",
    "columns_to_drop = ['registrationApproved', 'objectives','registrationSubmitted','paymentDate','...','rrr','timeTakeTobeProcessed','durationInQueue',\n",
    "                   'resolved','enteredBy','activeForPostInc','consentCode']\n",
    "affiliate_clm_to_drop = ['isChairman',\t'isDesignated',\t'postcode',\n",
    "                         'isCorporate','isPublicUser',]\n",
    "drop_columns_from_df(new_table, affiliate_clm_to_drop)\n",
    "new_table.head(4)\n",
    "# new_table.columns.to_list()\n"
   ]
  },
  {
   "cell_type": "code",
   "execution_count": 52,
   "id": "09191447",
   "metadata": {},
   "outputs": [
    {
     "name": "stdout",
     "output_type": "stream",
     "text": [
      "Dummy database 'join_example.db' created for demonstration.\n",
      "Executing query:\n",
      "\n",
      "        SELECT *\n",
      "        FROM employees AS lt\n",
      "        INNER JOIN departments AS rt ON lt.dept_id = rt.department_id\n",
      "        \n",
      "\n",
      "Successfully joined 'employees' and 'departments'.\n",
      "\n",
      "Joined table preview:\n"
     ]
    },
    {
     "data": {
      "text/html": [
       "<div>\n",
       "<style scoped>\n",
       "    .dataframe tbody tr th:only-of-type {\n",
       "        vertical-align: middle;\n",
       "    }\n",
       "\n",
       "    .dataframe tbody tr th {\n",
       "        vertical-align: top;\n",
       "    }\n",
       "\n",
       "    .dataframe thead th {\n",
       "        text-align: right;\n",
       "    }\n",
       "</style>\n",
       "<table border=\"1\" class=\"dataframe\">\n",
       "  <thead>\n",
       "    <tr style=\"text-align: right;\">\n",
       "      <th></th>\n",
       "      <th>employee_id</th>\n",
       "      <th>employee_name</th>\n",
       "      <th>dept_id</th>\n",
       "      <th>department_id</th>\n",
       "      <th>department_name</th>\n",
       "    </tr>\n",
       "  </thead>\n",
       "  <tbody>\n",
       "    <tr>\n",
       "      <th>0</th>\n",
       "      <td>1</td>\n",
       "      <td>Alice</td>\n",
       "      <td>101</td>\n",
       "      <td>101</td>\n",
       "      <td>Engineering</td>\n",
       "    </tr>\n",
       "    <tr>\n",
       "      <th>1</th>\n",
       "      <td>2</td>\n",
       "      <td>Bob</td>\n",
       "      <td>101</td>\n",
       "      <td>101</td>\n",
       "      <td>Engineering</td>\n",
       "    </tr>\n",
       "    <tr>\n",
       "      <th>2</th>\n",
       "      <td>3</td>\n",
       "      <td>Charlie</td>\n",
       "      <td>102</td>\n",
       "      <td>102</td>\n",
       "      <td>Sales</td>\n",
       "    </tr>\n",
       "  </tbody>\n",
       "</table>\n",
       "</div>"
      ],
      "text/plain": [
       "   employee_id employee_name  dept_id  department_id department_name\n",
       "0            1         Alice      101            101     Engineering\n",
       "1            2           Bob      101            101     Engineering\n",
       "2            3       Charlie      102            102           Sales"
      ]
     },
     "metadata": {},
     "output_type": "display_data"
    }
   ],
   "source": [
    "# Join by organisation ID\n",
    "\n",
    "\n",
    "def join_db_tables(db_path, left_table, right_table, left_on, right_on):\n",
    "    \"\"\"\n",
    "    Connects to a SQLite database, performs an INNER JOIN on two tables,\n",
    "    and returns the result as a pandas DataFrame.\n",
    "\n",
    "    Args:\n",
    "        db_path (str): The file path to the SQLite database.\n",
    "        left_table (str): The name of the left table in the join.\n",
    "        right_table (str): The name of the right table in the join.\n",
    "        left_on (str): The name of the key column in the left table.\n",
    "        right_on (str): The name of the key column in the right table.\n",
    "\n",
    "    Returns:\n",
    "        pandas.DataFrame: A DataFrame containing the joined data,\n",
    "                          or None if an error occurs.\n",
    "    \"\"\"\n",
    "    joined_df = None\n",
    "    conn = None\n",
    "    try:\n",
    "        # Establish a connection to the SQLite database\n",
    "        conn = sqlite3.connect(db_path)\n",
    "\n",
    "        # Construct the SQL INNER JOIN query.\n",
    "        # Using aliases (lt, rt) for tables makes the query cleaner.\n",
    "        query = f\"\"\"\n",
    "        SELECT *\n",
    "        FROM {left_table} AS lt\n",
    "        INNER JOIN {right_table} AS rt ON lt.{left_on} = rt.{right_on}\n",
    "        \"\"\"\n",
    "\n",
    "        print(f\"Executing query:\\n{query}\")\n",
    "\n",
    "        # Use pandas to execute the query and load the result into a DataFrame\n",
    "        joined_df = pd.read_sql_query(query, conn)\n",
    "\n",
    "        print(f\"\\nSuccessfully joined '{left_table}' and '{right_table}'.\")\n",
    "\n",
    "    except sqlite3.Error as e:\n",
    "        print(f\"Database error: {e}\")\n",
    "    except Exception as e:\n",
    "        print(f\"An error occurred: {e}\")\n",
    "    finally:\n",
    "        # Ensure the database connection is always closed\n",
    "        if conn:\n",
    "            conn.close()\n",
    "\n",
    "    return joined_df\n",
    "\n",
    "# --- Example: Create a dummy database to demonstrate the join ---\n",
    "\n",
    "def setup_dummy_db(db_path=\"join_example.db\"):\n",
    "    \"\"\"Creates a dummy database with two tables to be joined.\"\"\"\n",
    "    with sqlite3.connect(db_path) as conn:\n",
    "        c = conn.cursor()\n",
    "        c.execute(\"DROP TABLE IF EXISTS employees\")\n",
    "        c.execute(\"DROP TABLE IF EXISTS departments\")\n",
    "        c.execute('''\n",
    "            CREATE TABLE departments (\n",
    "                department_id INTEGER PRIMARY KEY,\n",
    "                department_name TEXT NOT NULL\n",
    "            )\n",
    "        ''')\n",
    "        c.execute('''\n",
    "            CREATE TABLE employees (\n",
    "                employee_id INTEGER PRIMARY KEY,\n",
    "                employee_name TEXT NOT NULL,\n",
    "                dept_id INTEGER\n",
    "            )\n",
    "        ''')\n",
    "        c.execute(\"INSERT INTO departments VALUES (101, 'Engineering'), (102, 'Sales')\")\n",
    "        c.execute(\"INSERT INTO employees VALUES (1, 'Alice', 101), (2, 'Bob', 101), (3, 'Charlie', 102)\")\n",
    "        print(f\"Dummy database '{db_path}' created for demonstration.\")\n",
    "\n",
    "# 1. Setup the database (this only needs to be done once)\n",
    "DUMMY_DB_PATH = 'join_example.db'\n",
    "setup_dummy_db(DUMMY_DB_PATH)\n",
    "\n",
    "# 2. Define your database, tables, and join keys\n",
    "#    (replace these with your actual values)\n",
    "DB_PATH = DUMMY_DB_PATH\n",
    "LEFT_TABLE = 'employees'\n",
    "RIGHT_TABLE = 'departments'\n",
    "LEFT_KEY = 'dept_id'\n",
    "RIGHT_KEY = 'department_id'\n",
    "\n",
    "# 3. Call the function to perform the join\n",
    "joined_table = join_db_tables(DB_PATH, LEFT_TABLE, RIGHT_TABLE, LEFT_KEY, RIGHT_KEY)\n",
    "\n",
    "# 4. Display the first few rows of the joined table\n",
    "if joined_table is not None:\n",
    "    print(\"\\nJoined table preview:\")\n",
    "    # In a Jupyter environment, display() gives a nicer HTML output\n",
    "    try:\n",
    "        display(joined_table.head())\n",
    "    except NameError:\n",
    "        print(joined_table.head())\n"
   ]
  },
  {
   "cell_type": "markdown",
   "id": "e6fffd30",
   "metadata": {},
   "source": [
    "# LOAD"
   ]
  },
  {
   "cell_type": "code",
   "execution_count": null,
   "id": "9b162e98",
   "metadata": {},
   "outputs": [
    {
     "name": "stdout",
     "output_type": "stream",
     "text": [
      "Table 'transformed_table_new' has been exported to new_analysis.db\n"
     ]
    }
   ],
   "source": [
    "\n",
    "\n",
    "# Create a connection to the new database\n",
    "new_conn = sqlite3.connect(NEW_DB_PATH)\n",
    "\n",
    "# Export the table to the new database\n",
    "table_name_new_db = 'transformed_table_new'\n",
    "new_table.to_sql(table_name_new_db,\n",
    "                  new_conn, \n",
    "                  if_exists='replace', index=False)\n",
    "\n",
    "print(f\"Table '{table_name_new_db}' has been exported to {NEW_DB_PATH}\")\n"
   ]
  },
  {
   "cell_type": "code",
   "execution_count": 12,
   "id": "f5fa0b88",
   "metadata": {},
   "outputs": [
    {
     "name": "stdout",
     "output_type": "stream",
     "text": [
      "\n",
      "Tables in the new database:\n"
     ]
    },
    {
     "data": {
      "text/html": [
       "<div>\n",
       "<style scoped>\n",
       "    .dataframe tbody tr th:only-of-type {\n",
       "        vertical-align: middle;\n",
       "    }\n",
       "\n",
       "    .dataframe tbody tr th {\n",
       "        vertical-align: top;\n",
       "    }\n",
       "\n",
       "    .dataframe thead th {\n",
       "        text-align: right;\n",
       "    }\n",
       "</style>\n",
       "<table border=\"1\" class=\"dataframe\">\n",
       "  <thead>\n",
       "    <tr style=\"text-align: right;\">\n",
       "      <th></th>\n",
       "      <th>name</th>\n",
       "    </tr>\n",
       "  </thead>\n",
       "  <tbody>\n",
       "    <tr>\n",
       "      <th>0</th>\n",
       "      <td>transformed_table</td>\n",
       "    </tr>\n",
       "    <tr>\n",
       "      <th>1</th>\n",
       "      <td>transformed_table_new</td>\n",
       "    </tr>\n",
       "  </tbody>\n",
       "</table>\n",
       "</div>"
      ],
      "text/plain": [
       "                    name\n",
       "0      transformed_table\n",
       "1  transformed_table_new"
      ]
     },
     "metadata": {},
     "output_type": "display_data"
    }
   ],
   "source": [
    "\n",
    "# Verify the table was created\n",
    "verification_query = \"SELECT name FROM sqlite_master WHERE type='table';\"\n",
    "new_tables = pd.read_sql_query(verification_query, new_conn)\n",
    "print(\"\\nTables in the new database:\")\n",
    "display(new_tables)\n",
    "\n"
   ]
  },
  {
   "cell_type": "markdown",
   "id": "94888d8f",
   "metadata": {},
   "source": [
    "# CLOSE CONNECTION"
   ]
  },
  {
   "cell_type": "code",
   "execution_count": 53,
   "id": "b25bc1c2",
   "metadata": {},
   "outputs": [
    {
     "name": "stdout",
     "output_type": "stream",
     "text": [
      "All database connections closed.\n"
     ]
    }
   ],
   "source": [
    "# Close the connection to the new database\n",
    "new_conn.close()\n",
    "# Cleanup: Close all database connections\n",
    "try:\n",
    "    conn.close()\n",
    "    print(\"All database connections closed.\")\n",
    "except:\n",
    "    print(\"Note: Original database connection was already closed.\")"
   ]
  }
 ],
 "metadata": {
  "kernelspec": {
   "display_name": "EDAenv",
   "language": "python",
   "name": "python3"
  },
  "language_info": {
   "codemirror_mode": {
    "name": "ipython",
    "version": 3
   },
   "file_extension": ".py",
   "mimetype": "text/x-python",
   "name": "python",
   "nbconvert_exporter": "python",
   "pygments_lexer": "ipython3",
   "version": "3.13.5"
  }
 },
 "nbformat": 4,
 "nbformat_minor": 5
}
